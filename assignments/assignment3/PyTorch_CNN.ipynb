{
 "cells": [
  {
   "cell_type": "markdown",
   "metadata": {
    "colab_type": "text",
    "id": "77tx2Je8hyqY"
   },
   "source": [
    "# Задание 3.2 - сверточные нейронные сети (CNNs) в PyTorch\n",
    "\n",
    "Это упражнение мы буде выполнять в Google Colab - https://colab.research.google.com/  \n",
    "Google Colab позволяет запускать код в notebook в облаке Google, где можно воспользоваться бесплатным GPU!  \n",
    "\n",
    "Авторы курса благодарят компанию Google и надеятся, что праздник не закончится.\n",
    "\n",
    "Туториал по настройке Google Colab:  \n",
    "https://medium.com/deep-learning-turkey/google-colab-free-gpu-tutorial-e113627b9f5d  \n",
    "(Keras инсталлировать не нужно, наш notebook сам установит PyTorch)\n"
   ]
  },
  {
   "cell_type": "code",
   "execution_count": 81,
   "metadata": {
    "colab": {},
    "colab_type": "code",
    "id": "-afwWw-Q85vD"
   },
   "outputs": [],
   "source": [
    "from collections import namedtuple\n",
    "\n",
    "import matplotlib.pyplot as plt\n",
    "import numpy as np\n",
    "import PIL\n",
    "import torch\n",
    "import torch.nn as nn\n",
    "import torch.optim as optim\n",
    "import torchvision.datasets as dset\n",
    "from torch.utils.data.sampler import SubsetRandomSampler\n",
    "\n",
    "import time\n",
    "\n",
    "from torchvision import transforms"
   ]
  },
  {
   "cell_type": "code",
   "execution_count": 82,
   "metadata": {
    "colab": {
     "base_uri": "https://localhost:8080/",
     "height": 34
    },
    "colab_type": "code",
    "id": "NNU-OD9O9ltP",
    "outputId": "00a0adde-d586-41f1-c05d-20d351deef95"
   },
   "outputs": [
    {
     "data": {
      "text/plain": [
       "True"
      ]
     },
     "execution_count": 82,
     "metadata": {},
     "output_type": "execute_result"
    }
   ],
   "source": [
    "device = torch.device(\"cuda:0\") # Let's make sure GPU is available!\n",
    "torch.cuda.is_available()\n"
   ]
  },
  {
   "cell_type": "markdown",
   "metadata": {
    "colab_type": "text",
    "id": "hdiUFqMdhyql"
   },
   "source": [
    "# Загружаем данные"
   ]
  },
  {
   "cell_type": "code",
   "execution_count": 83,
   "metadata": {
    "colab": {},
    "colab_type": "code",
    "id": "YAvkoRx-9FsP"
   },
   "outputs": [],
   "source": [
    "# First, lets load the dataset\n",
    "data_train = dset.SVHN('./data/', \n",
    "                       transform=transforms.Compose([\n",
    "                           transforms.ToTensor(),\n",
    "                           transforms.Normalize(mean=[0.43,0.44,0.47],\n",
    "                                               std=[0.20,0.20,0.20])                           \n",
    "                       ])\n",
    "                      )\n",
    "data_test = dset.SVHN('./data/', split='test', transform=transforms.Compose([\n",
    "                           transforms.ToTensor(),\n",
    "                           transforms.Normalize(mean=[0.43,0.44,0.47],\n",
    "                                               std=[0.20,0.20,0.20])                           \n",
    "                       ]))"
   ]
  },
  {
   "cell_type": "markdown",
   "metadata": {
    "colab_type": "text",
    "id": "ZdT8PE2phyqp"
   },
   "source": [
    "Разделяем данные на training и validation.\n",
    "\n",
    "На всякий случай для подробностей - https://pytorch.org/tutorials/beginner/data_loading_tutorial.html"
   ]
  },
  {
   "cell_type": "code",
   "execution_count": 84,
   "metadata": {
    "colab": {},
    "colab_type": "code",
    "id": "YRnr8CPg7Hli"
   },
   "outputs": [],
   "source": [
    "batch_size = 64\n",
    "\n",
    "data_size = data_train.data.shape[0]\n",
    "validation_split = .2\n",
    "split = int(np.floor(validation_split * data_size))\n",
    "indices = list(range(data_size))\n",
    "np.random.shuffle(indices)\n",
    "\n",
    "train_indices, val_indices = indices[split:], indices[:split]\n",
    "\n",
    "train_sampler = SubsetRandomSampler(train_indices)\n",
    "val_sampler = SubsetRandomSampler(val_indices)\n",
    "\n",
    "train_loader = torch.utils.data.DataLoader(data_train, batch_size=batch_size, \n",
    "                                           sampler=train_sampler)\n",
    "val_loader = torch.utils.data.DataLoader(data_train, batch_size=batch_size,\n",
    "                                         sampler=val_sampler)"
   ]
  },
  {
   "cell_type": "code",
   "execution_count": 85,
   "metadata": {
    "colab": {},
    "colab_type": "code",
    "id": "LyYvt-T67PBG"
   },
   "outputs": [],
   "source": [
    "# We'll use a special helper module to shape it into a flat tensor\n",
    "class Flattener(nn.Module):\n",
    "    def forward(self, x):\n",
    "        batch_size, *_ = x.shape\n",
    "        return x.view(batch_size, -1)"
   ]
  },
  {
   "cell_type": "markdown",
   "metadata": {
    "colab_type": "text",
    "id": "vvAiEBOfhyqw"
   },
   "source": [
    "Создадим простейшую сеть с новыми слоями:  \n",
    "Convolutional - `nn.Conv2d`  \n",
    "MaxPool - `nn.MaxPool2d`"
   ]
  },
  {
   "cell_type": "code",
   "execution_count": 86,
   "metadata": {
    "colab": {},
    "colab_type": "code",
    "id": "w9SFVGZP7SQd"
   },
   "outputs": [],
   "source": [
    "nn_model = nn.Sequential(\n",
    "            nn.Conv2d(3, 64, 3, padding=1),\n",
    "            nn.ReLU(inplace=True),\n",
    "            nn.MaxPool2d(4),\n",
    "            nn.Conv2d(64, 64, 3, padding=1),\n",
    "            nn.ReLU(inplace=True),\n",
    "            nn.MaxPool2d(4),    \n",
    "            Flattener(),\n",
    "            nn.Linear(64*2*2, 10),\n",
    "          )\n",
    "\n",
    "nn_model.type(torch.cuda.FloatTensor)\n",
    "nn_model.to(device)\n",
    "\n",
    "loss = nn.CrossEntropyLoss().type(torch.cuda.FloatTensor)\n",
    "optimizer = optim.SGD(nn_model.parameters(), lr=1e-1, weight_decay=1e-4)"
   ]
  },
  {
   "cell_type": "markdown",
   "metadata": {
    "colab_type": "text",
    "id": "nHyXjvA5hyq0"
   },
   "source": [
    "Восстановите функцию `compute_accuracy` из прошлого задания.  \n",
    "Единственное отличие в новом - она должна передать данные на GPU прежде чем прогонять через модель. Сделайте это так же, как это делает функция `train_model`"
   ]
  },
  {
   "cell_type": "code",
   "execution_count": null,
   "metadata": {
    "colab": {},
    "colab_type": "code",
    "id": "wjKP0tp3E21g"
   },
   "outputs": [],
   "source": []
  },
  {
   "cell_type": "code",
   "execution_count": 100,
   "metadata": {
    "colab": {
     "base_uri": "https://localhost:8080/",
     "height": 102
    },
    "colab_type": "code",
    "id": "2ek3KVQK7hJ6",
    "outputId": "e925dc6c-51eb-429a-95e6-37ee13abaa33"
   },
   "outputs": [],
   "source": [
    "def compute_accuracy(model, val_loader):\n",
    "    \"\"\"\n",
    "    Computes accuracy on provided data using mini-batches\n",
    "    \"\"\"\n",
    "    total_samples = 0\n",
    "    correct_samples = 0\n",
    "\n",
    "    for i_step, (x, y) in enumerate(val_loader):\n",
    "\n",
    "        x_gpu = x.to(device)\n",
    "        y_gpu = y.to(device)\n",
    "        predictions = model(x_gpu)    \n",
    "        # print(prediction.shape, y_gpu.shape)\n",
    "        # https://pytorch.org/docs/master/generated/torch.max.html\n",
    "        values, indices = torch.max(predictions, 1)\n",
    "        correct_samples += torch.sum(indices == y_gpu)\n",
    "        total_samples += y.shape[0]\n",
    "\n",
    "\n",
    "    accuracy = int(correct_samples) / total_samples\n",
    "    return accuracy\n",
    "\n",
    "def train_model(model, train_loader, val_loader, loss, optimizer, num_epochs):    \n",
    "    loss_history = []\n",
    "    train_history = []\n",
    "    val_history = []\n",
    "    start = time.time()\n",
    "    \n",
    "    for epoch in range(num_epochs):\n",
    "        model.train() # Enter train mode\n",
    "        \n",
    "        loss_accum = 0\n",
    "        correct_samples = 0\n",
    "        total_samples = 0\n",
    "        for i_step, (x, y) in enumerate(train_loader):\n",
    "          \n",
    "            x_gpu = x.to(device)\n",
    "            y_gpu = y.to(device)\n",
    "            prediction = model(x_gpu)    \n",
    "            loss_value = loss(prediction, y_gpu)\n",
    "            optimizer.zero_grad()\n",
    "            loss_value.backward()\n",
    "            optimizer.step()\n",
    "            \n",
    "            _, indices = torch.max(prediction, 1)\n",
    "            correct_samples += torch.sum(indices == y_gpu)\n",
    "            total_samples += y.shape[0]\n",
    "            \n",
    "            loss_accum += loss_value\n",
    "\n",
    "        ave_loss = loss_accum / i_step\n",
    "        train_accuracy = float(correct_samples) / total_samples\n",
    "        val_accuracy = compute_accuracy(model, val_loader)\n",
    "        \n",
    "        loss_history.append(float(ave_loss))\n",
    "        train_history.append(train_accuracy)\n",
    "        val_history.append(val_accuracy)\n",
    "        \n",
    "        print(\"epoch: %d Average loss: %f, Train accuracy: %f, Val accuracy: %f\" % (epoch, ave_loss, train_accuracy, val_accuracy))\n",
    "        \n",
    "    print(\"elapsed\", time.time() - start, \"seconds\")\n",
    "    return loss_history, train_history, val_history\n",
    "        \n"
   ]
  },
  {
   "cell_type": "code",
   "execution_count": null,
   "metadata": {},
   "outputs": [],
   "source": [
    "loss_history, train_history, val_history = train_model(nn_model, train_loader, val_loader, loss, optimizer, 5)"
   ]
  },
  {
   "cell_type": "markdown",
   "metadata": {
    "colab_type": "text",
    "id": "6a-3a1ZFGEw_"
   },
   "source": [
    "# Аугментация данных (Data augmentation)\n",
    "\n",
    "В работе с изображениями одним из особенно важных методов является аугментация данных - то есть, генерация дополнительных данных для тренировки на основе изначальных.   \n",
    "Таким образом, мы получаем возможность \"увеличить\" набор данных для тренировки, что ведет к лучшей работе сети.\n",
    "Важно, чтобы аугментированные данные были похожи на те, которые могут встретиться в реальной жизни, иначе польза от аугментаций уменьшается и может ухудшить работу сети.\n",
    "\n",
    "С PyTorch идут несколько таких алгоритмов, называемых `transforms`. Более подробно про них можно прочитать тут -\n",
    "https://pytorch.org/tutorials/beginner/data_loading_tutorial.html#transforms\n",
    "\n",
    "Ниже мы используем следующие алгоритмы генерации:\n",
    "- ColorJitter - случайное изменение цвета\n",
    "- RandomHorizontalFlip - горизонтальное отражение с вероятностью 50%\n",
    "- RandomVerticalFlip - вертикальное отражение с вероятностью 50%\n",
    "- RandomRotation - случайный поворот"
   ]
  },
  {
   "cell_type": "code",
   "execution_count": 88,
   "metadata": {
    "colab": {},
    "colab_type": "code",
    "id": "jCWMUWmr7t5g"
   },
   "outputs": [],
   "source": [
    "tfs = transforms.Compose([\n",
    "    transforms.ColorJitter(hue=.50, saturation=.50),\n",
    "    transforms.RandomHorizontalFlip(),\n",
    "    transforms.RandomVerticalFlip(),\n",
    "    transforms.RandomRotation(50, resample=PIL.Image.BILINEAR),\n",
    "    transforms.ToTensor(),\n",
    "    transforms.Normalize(mean=[0.43,0.44,0.47],\n",
    "                       std=[0.20,0.20,0.20])                           \n",
    "])\n",
    "\n",
    "# Create augmented train dataset\n",
    "data_aug_train = dset.SVHN('./data/', \n",
    "                       transform=tfs\n",
    "                      )\n",
    "\n",
    "train_aug_loader = torch.utils.data.DataLoader(data_aug_train, batch_size=batch_size, \n",
    "                                           sampler=train_sampler)"
   ]
  },
  {
   "cell_type": "markdown",
   "metadata": {
    "colab_type": "text",
    "id": "BIn7aMUIhyq6"
   },
   "source": [
    "Визуализируем результаты агментации (вообще, смотреть на сгенерированные данные всегда очень полезно)."
   ]
  },
  {
   "cell_type": "code",
   "execution_count": 89,
   "metadata": {
    "colab": {
     "base_uri": "https://localhost:8080/",
     "height": 173
    },
    "colab_type": "code",
    "id": "YlJJEro1KZ45",
    "outputId": "e57872ac-804d-449b-cbe6-857a37f5ebb0"
   },
   "outputs": [
    {
     "data": {
      "image/png": "[encoded data removed]",
      "text/plain": [
       "<Figure size 2160x216 with 10 Axes>"
      ]
     },
     "metadata": {
      "needs_background": "light"
     },
     "output_type": "display_data"
    }
   ],
   "source": [
    "# TODO: Visualize some augmented images!\n",
    "# hint: you can create new datasets and loaders to accomplish this\n",
    "\n",
    "# Based on the visualizations, should we keep all the augmentations?\n",
    "\n",
    "tfs = transforms.Compose([\n",
    "    transforms.ColorJitter(hue=.20, saturation=.20),\n",
    "    transforms.RandomHorizontalFlip(),\n",
    "    transforms.RandomVerticalFlip(),\n",
    "    transforms.RandomRotation(10, resample=PIL.Image.BILINEAR),\n",
    "])\n",
    "\n",
    "data_aug_vis = dset.SVHN('./data/', \n",
    "                       transform=tfs\n",
    "                      )\n",
    "\n",
    "plt.figure(figsize=(30, 3))\n",
    "\n",
    "for i, (x, y) in enumerate(data_aug_vis):\n",
    "    if i == 10:\n",
    "        break\n",
    "    plt.subplot(1, 10, i+1)\n",
    "    plt.grid(False)\n",
    "    plt.imshow(x)\n",
    "    plt.axis('off')"
   ]
  },
  {
   "cell_type": "markdown",
   "metadata": {
    "colab_type": "text",
    "id": "o2LrmsYHoguB"
   },
   "source": [
    "Все ли агментации одинаково полезны на этом наборе данных? Могут ли быть среди них те, которые собьют модель с толку?\n",
    "\n",
    "Выберите из них только корректные"
   ]
  },
  {
   "cell_type": "code",
   "execution_count": 90,
   "metadata": {
    "colab": {
     "base_uri": "https://localhost:8080/",
     "height": 173
    },
    "colab_type": "code",
    "id": "evro9ksXGs9u",
    "outputId": "9f79af51-4072-475a-e4d4-f6934f477d3e"
   },
   "outputs": [
    {
     "data": {
      "image/png": "[encoded data removed]",
      "text/plain": [
       "<Figure size 2160x216 with 10 Axes>"
      ]
     },
     "metadata": {
      "needs_background": "light"
     },
     "output_type": "display_data"
    }
   ],
   "source": [
    "tfs_vis = transforms.Compose([\n",
    "    transforms.ColorJitter(hue=.50, saturation=.50),\n",
    "    transforms.RandomRotation(25, resample=PIL.Image.BILINEAR)\n",
    "])\n",
    "\n",
    "tfs_aug = transforms.Compose([\n",
    "    transforms.ColorJitter(hue=.10, saturation=.10),\n",
    "    #transforms.RandomHorizontalFlip(),\n",
    "    #transforms.RandomVerticalFlip(),\n",
    "    transforms.RandomRotation(15, resample=PIL.Image.BILINEAR),\n",
    "    transforms.ToTensor(),\n",
    "    transforms.Normalize(mean=[0.43,0.44,0.47],\n",
    "                       std=[0.20,0.20,0.20])                           \n",
    "])\n",
    "\n",
    "data_aug_vis = dset.SVHN('./data/', \n",
    "                       transform=tfs_vis\n",
    "                      )\n",
    "\n",
    "plt.figure(figsize=(30, 3))\n",
    "\n",
    "for i, (x, y) in enumerate(data_aug_vis):\n",
    "    if i == 10:\n",
    "        break\n",
    "    plt.subplot(1, 10, i+1)\n",
    "    plt.grid(False)\n",
    "    plt.imshow(x)\n",
    "    plt.axis('off')\n",
    "\n",
    "data_aug_train = dset.SVHN('./data/', \n",
    "                       transform=tfs_aug\n",
    "                      )\n",
    "\n",
    "train_aug_loader = torch.utils.data.DataLoader(data_aug_train, batch_size=batch_size, \n",
    "                                           sampler=train_sampler)"
   ]
  },
  {
   "cell_type": "code",
   "execution_count": 91,
   "metadata": {
    "colab": {
     "base_uri": "https://localhost:8080/",
     "height": 102
    },
    "colab_type": "code",
    "id": "PeO6Zw0DHqPR",
    "outputId": "3e9f4f3b-8ad5-4a78-b92a-2340004a0906"
   },
   "outputs": [
    {
     "name": "stdout",
     "output_type": "stream",
     "text": [
      "epoch: 0.000000 Average loss: 0.653236, Train accuracy: 0.798997, Val accuracy: 0.818442\n",
      "epoch: 1.000000 Average loss: 0.595494, Train accuracy: 0.818466, Val accuracy: 0.826838\n",
      "epoch: 2.000000 Average loss: 0.571317, Train accuracy: 0.826417, Val accuracy: 0.841171\n",
      "epoch: 3.000000 Average loss: 0.549022, Train accuracy: 0.832253, Val accuracy: 0.845130\n",
      "epoch: 4.000000 Average loss: 0.541424, Train accuracy: 0.834471, Val accuracy: 0.847382\n",
      "elapsed 133.40585279464722 seconds\n"
     ]
    }
   ],
   "source": [
    "# Finally, let's train with augmentations!\n",
    "\n",
    "# Note we shouldn't use augmentations on validation\n",
    "loss_history, train_history, val_history = train_model(nn_model, train_aug_loader, val_loader, loss, optimizer, 5)"
   ]
  },
  {
   "cell_type": "markdown",
   "metadata": {
    "colab_type": "text",
    "id": "r0bcioK6JBDK"
   },
   "source": [
    "# LeNet\n",
    "Попробуем имплементировать классическую архитектуру сверточной нейронной сети, предложенную Яном ЛеКуном в 1998 году. В свое время она достигла впечатляющих результатов на MNIST, посмотрим как она справится с SVHN?\n",
    "Она описана в статье [\"Gradient Based Learning Applied to Document Recognition\"](http://yann.lecun.com/exdb/publis/pdf/lecun-01a.pdf), попробуйте прочитать ключевые части и имплементировать предложенную архитетуру на PyTorch.\n",
    "\n",
    "Реализовывать слои и функцию ошибки LeNet, которых нет в PyTorch, **не нужно** - просто возьмите их размеры и переведите в уже известные нам Convolutional, Pooling и Fully Connected layers.\n",
    "\n",
    "Если в статье не очень понятно, можно просто погуглить LeNet и разобраться в деталях :)"
   ]
  },
  {
   "cell_type": "code",
   "execution_count": 92,
   "metadata": {
    "colab": {},
    "colab_type": "code",
    "id": "ieEzZUglJAUB"
   },
   "outputs": [],
   "source": [
    "# TODO: Implement LeNet-like architecture for SVHN task\n",
    "lenet_model = nn.Sequential(\n",
    "            # Flattener(),\n",
    "            nn.Conv2d(in_channels = 3, out_channels = 6, kernel_size = 5, padding = 2), #C1\n",
    "            nn.MaxPool2d(kernel_size = 2), #S2\n",
    "            nn.Conv2d(in_channels = 6, out_channels = 16,kernel_size = 5, padding = 2), #C3\n",
    "            nn.MaxPool2d(5),    #S4\n",
    "            nn.Conv2d(in_channels = 16, out_channels = 120,kernel_size = 5, padding = 2), #C5\n",
    "            Flattener(),\n",
    "            nn.Linear(in_features=9*120, out_features=84), #F6\n",
    "            nn.Hardtanh(inplace=True),\n",
    "            nn.Linear(84, 10)\n",
    "          )\n",
    "\n",
    "lenet_model.type(torch.cuda.FloatTensor)\n",
    "lenet_model.to(device)\n",
    "\n",
    "loss = nn.CrossEntropyLoss().type(torch.cuda.FloatTensor)\n",
    "optimizer = optim.SGD(lenet_model.parameters(), lr=1e-2, weight_decay=1e-3)"
   ]
  },
  {
   "cell_type": "code",
   "execution_count": 93,
   "metadata": {
    "colab": {
     "base_uri": "https://localhost:8080/",
     "height": 187
    },
    "colab_type": "code",
    "id": "WMmaPfdeKk9H",
    "outputId": "dccc1576-15e6-4431-d8b7-7b2db1be88f9"
   },
   "outputs": [
    {
     "name": "stdout",
     "output_type": "stream",
     "text": [
      "epoch: 0.000000 Average loss: 2.158893, Train accuracy: 0.225216, Val accuracy: 0.408163\n",
      "epoch: 1.000000 Average loss: 1.421220, Train accuracy: 0.535662, Val accuracy: 0.689509\n",
      "epoch: 2.000000 Average loss: 0.975971, Train accuracy: 0.690356, Val accuracy: 0.767047\n",
      "epoch: 3.000000 Average loss: 0.828311, Train accuracy: 0.739464, Val accuracy: 0.786772\n",
      "epoch: 4.000000 Average loss: 0.752342, Train accuracy: 0.764137, Val accuracy: 0.803836\n",
      "epoch: 5.000000 Average loss: 0.704547, Train accuracy: 0.779784, Val accuracy: 0.815303\n",
      "epoch: 6.000000 Average loss: 0.666575, Train accuracy: 0.791199, Val accuracy: 0.817828\n",
      "epoch: 7.000000 Average loss: 0.640914, Train accuracy: 0.800635, Val accuracy: 0.826496\n",
      "epoch: 8.000000 Average loss: 0.614278, Train accuracy: 0.808023, Val accuracy: 0.824381\n",
      "epoch: 9.000000 Average loss: 0.598323, Train accuracy: 0.812545, Val accuracy: 0.835233\n",
      "elapsed 278.5424220561981 seconds\n"
     ]
    }
   ],
   "source": [
    "\n",
    "# Let's train it!\n",
    "loss_history, train_history, val_history = train_model(lenet_model, train_aug_loader, val_loader, loss, optimizer, 10)"
   ]
  },
  {
   "cell_type": "markdown",
   "metadata": {
    "colab_type": "text",
    "id": "u_O9qiYySvuj"
   },
   "source": [
    "# Подбор гиперпараметров"
   ]
  },
  {
   "cell_type": "code",
   "execution_count": 124,
   "metadata": {
    "colab": {},
    "colab_type": "code",
    "id": "ljp9IPMioVHa"
   },
   "outputs": [],
   "source": [
    "\n",
    "batch_size = 32\n",
    "\n",
    "tfs_aug = transforms.Compose([\n",
    "    transforms.ColorJitter(hue=0, saturation=0),\n",
    "    transforms.Grayscale(num_output_channels=3),\n",
    "    #transforms.RandomHorizontalFlip(),\n",
    "    #transforms.RandomVerticalFlip(),\n",
    "    transforms.RandomRotation(2, resample=PIL.Image.BILINEAR),\n",
    "    transforms.ToTensor(),\n",
    "    transforms.Normalize(mean=[0.43,0.44,0.47],\n",
    "                       std=[0.20,0.20,0.20])                           \n",
    "])\n",
    "\n",
    "data_aug_train = dset.SVHN('./data/', \n",
    "                       transform=tfs_aug\n",
    "                      )\n",
    "\n",
    "train_aug_loader = torch.utils.data.DataLoader(data_aug_train, batch_size=batch_size, \n",
    "                                           sampler=train_sampler)"
   ]
  },
  {
   "cell_type": "code",
   "execution_count": 125,
   "metadata": {
    "colab": {
     "base_uri": "https://localhost:8080/",
     "height": 34
    },
    "colab_type": "code",
    "id": "i6mhfdQ9K-N3",
    "outputId": "a2c639d0-17fd-4d99-c8ca-ae37cd600c27"
   },
   "outputs": [
    {
     "name": "stdout",
     "output_type": "stream",
     "text": [
      "epoch: 0 Average loss: 0.807644, Train accuracy: 0.745009, Val accuracy: 0.832093\n",
      "epoch: 1 Average loss: 0.526560, Train accuracy: 0.837986, Val accuracy: 0.852979\n",
      "epoch: 2 Average loss: 0.474830, Train accuracy: 0.853735, Val accuracy: 0.853184\n",
      "epoch: 3 Average loss: 0.436303, Train accuracy: 0.865611, Val accuracy: 0.862057\n",
      "epoch: 4 Average loss: 0.421880, Train accuracy: 0.871959, Val accuracy: 0.867108\n",
      "epoch: 5 Average loss: 0.399737, Train accuracy: 0.877419, Val accuracy: 0.867518\n",
      "epoch: 6 Average loss: 0.390176, Train accuracy: 0.880422, Val accuracy: 0.870794\n",
      "epoch: 7 Average loss: 0.377739, Train accuracy: 0.884875, Val accuracy: 0.872091\n",
      "epoch: 8 Average loss: 0.374690, Train accuracy: 0.886189, Val accuracy: 0.877141\n",
      "epoch: 9 Average loss: 0.369422, Train accuracy: 0.886718, Val accuracy: 0.875981\n",
      "epoch: 10 Average loss: 0.363124, Train accuracy: 0.888322, Val accuracy: 0.873046\n",
      "epoch: 11 Average loss: 0.355730, Train accuracy: 0.891837, Val accuracy: 0.876732\n",
      "epoch: 12 Average loss: 0.352860, Train accuracy: 0.891649, Val accuracy: 0.876937\n",
      "epoch: 13 Average loss: 0.350009, Train accuracy: 0.892997, Val accuracy: 0.877278\n",
      "epoch: 14 Average loss: 0.350232, Train accuracy: 0.892229, Val accuracy: 0.876800\n",
      "epoch: 15 Average loss: 0.346522, Train accuracy: 0.894669, Val accuracy: 0.876118\n",
      "epoch: 16 Average loss: 0.343838, Train accuracy: 0.894755, Val accuracy: 0.878507\n",
      "epoch: 17 Average loss: 0.341929, Train accuracy: 0.895796, Val accuracy: 0.880827\n",
      "epoch: 18 Average loss: 0.339372, Train accuracy: 0.895983, Val accuracy: 0.873729\n",
      "epoch: 19 Average loss: 0.340308, Train accuracy: 0.895028, Val accuracy: 0.875913\n",
      "epoch: 20 Average loss: 0.335027, Train accuracy: 0.897553, Val accuracy: 0.875299\n",
      "epoch: 21 Average loss: 0.334911, Train accuracy: 0.898406, Val accuracy: 0.870726\n",
      "epoch: 22 Average loss: 0.334257, Train accuracy: 0.896188, Val accuracy: 0.879599\n",
      "epoch: 23 Average loss: 0.335968, Train accuracy: 0.897195, Val accuracy: 0.868405\n",
      "epoch: 24 Average loss: 0.335268, Train accuracy: 0.896273, Val accuracy: 0.877619\n",
      "elapsed 1077.5357627868652 seconds\n"
     ]
    }
   ],
   "source": [
    "# The key hyperparameters we're going to tune are learning speed, annealing rate and regularization\n",
    "# We also encourage you to try different optimizers as well\n",
    "\n",
    "Hyperparams = namedtuple(\"Hyperparams\", ['learning_rate', 'anneal_epochs', 'reg'])\n",
    "RunResult = namedtuple(\"RunResult\", ['model', 'train_history', 'val_history', 'final_val_accuracy'])\n",
    "\n",
    "learning_rates = [ 2e-2]\n",
    "anneal_coeff = 0.5\n",
    "anneal_epochs = [25]\n",
    "weight_decays = [1e-3]\n",
    "\n",
    "#  Best validation accuracy: 0.75, best hyperparams: Hyperparams(learning_rate=0.02, anneal_epochs=9, reg=0.001, channel1=32, channel2=64, channel3=128, batch_size=32, hue=0, saturation=0, rotation=2)\n",
    "\n",
    "\n",
    "# Record all the runs here\n",
    "# Key should be Hyperparams and values should be RunResult\n",
    "run_record = {} \n",
    "\n",
    "# Use grid search or random search and record all runs in run_record dictionnary \n",
    "# Important: perform search in logarithmic space!\n",
    "\n",
    "for learning_rate in learning_rates:\n",
    "    for weight_decay in weight_decays:\n",
    "        for num_epoch in anneal_epochs:      \n",
    "            hyper = Hyperparams(learning_rate , num_epoch, weight_decay)\n",
    "\n",
    "            model = nn.Sequential(\n",
    "                        nn.Conv2d(in_channels = 3, out_channels = 32, kernel_size = 5, padding = 2, padding_mode='circular'), #C1\n",
    "                        nn.MaxPool2d(kernel_size = 3), #S2\n",
    "                        nn.BatchNorm2d(32),\n",
    "                        nn.Conv2d(in_channels = 32, out_channels = 64,kernel_size = 5, padding = 2, padding_mode='circular'), #C3\n",
    "                        nn.MaxPool2d(5),    #S4\n",
    "                        nn.BatchNorm2d(64),\n",
    "                        nn.Conv2d(in_channels = 64, out_channels = 128,kernel_size = 5, padding = 2, padding_mode='circular'), #C5\n",
    "                        nn.BatchNorm2d(128),\n",
    "                        Flattener(),\n",
    "                        nn.Linear(in_features=4*128, out_features=64), #F6\n",
    "                        nn.BatchNorm1d(64),\n",
    "                        nn.ReLU(inplace=True),\n",
    "                        nn.Linear(64, 10)\n",
    "                      )\n",
    "\n",
    "            \n",
    "            model.type(torch.cuda.FloatTensor)\n",
    "            model.to(device)\n",
    "            loss = nn.CrossEntropyLoss().type(torch.cuda.FloatTensor)\n",
    "            optimizer = optim.SGD(model.parameters(), lr=learning_rate, weight_decay=weight_decay, momentum= 0.6)\n",
    "            #optimizer = optim.Adam(model.parameters(), lr = learning_rate, weight_decay=anneal_coeff)\n",
    "\n",
    "            loss_history, train_history, val_history = train_model(\n",
    "                model, train_aug_loader, val_loader, loss, optimizer, num_epochs=num_epoch)\n",
    "\n",
    "            run = RunResult(model, train_history, val_history, val_history[-1])\n",
    "\n",
    "            run_record[hyper] = run"
   ]
  },
  {
   "cell_type": "code",
   "execution_count": 126,
   "metadata": {
    "colab": {
     "base_uri": "https://localhost:8080/",
     "height": 85
    },
    "colab_type": "code",
    "id": "Y6xExdw8JB1l",
    "outputId": "ba210173-ce52-4f57-959e-d6b614a54ff4"
   },
   "outputs": [
    {
     "name": "stdout",
     "output_type": "stream",
     "text": [
      "0.8776192751348031\n",
      "finished in 856.6298921108246 seconds\n",
      "Best validation accuracy: 0.88, best hyperparams: Hyperparams(learning_rate=0.02, anneal_epochs=25, reg=0.001)\n"
     ]
    },
    {
     "data": {
      "image/png": "[encoded data removed]",
      "text/plain": [
       "<Figure size 432x288 with 1 Axes>"
      ]
     },
     "metadata": {
      "needs_background": "light"
     },
     "output_type": "display_data"
    }
   ],
   "source": [
    "best_val_accuracy = None\n",
    "best_hyperparams = None\n",
    "best_run = None\n",
    "\n",
    "for hyperparams, run_result in run_record.items():\n",
    "    print(run_result.final_val_accuracy)\n",
    "    if best_val_accuracy is None or best_val_accuracy < run_result.final_val_accuracy:\n",
    "        best_val_accuracy = run_result.final_val_accuracy\n",
    "        best_hyperparams = hyperparams\n",
    "        best_run = run_result\n",
    "        \n",
    "print(\"finished in\",elapsed,\"seconds\")        \n",
    "print(\"Best validation accuracy: %4.2f, best hyperparams: %s\" % (best_val_accuracy, best_hyperparams))\n",
    "\n",
    "import matplotlib.pyplot as plt\n",
    "def plot_history(train_history, val_history):\n",
    "    \n",
    "    # plt.plot(loss_history/np.mean(loss_history))\n",
    "    plt.ylabel('Accuracy @ epoch')\n",
    "    \n",
    "    train, = plt.plot(train_history)\n",
    "    train.set_label(\"train\")\n",
    "    validation, = plt.plot(val_history)\n",
    "    validation.set_label(\"validation\")\n",
    "\n",
    "    plt.legend()\n",
    "    plt.show()\n",
    "\n",
    "plot_history(best_run.train_history, best_run.val_history, )"
   ]
  },
  {
   "cell_type": "markdown",
   "metadata": {
    "colab_type": "text",
    "id": "LOmsR0uVgtgf"
   },
   "source": [
    "# Свободное упражнение - догоним и перегоним LeNet!\n",
    "\n",
    "Попробуйте найти архитектуру и настройки тренировки, чтобы выступить лучше наших бейзлайнов.\n",
    "\n",
    "Что можно и нужно попробовать:\n",
    "- BatchNormalization (для convolution layers он в PyTorch называется [batchnorm2d](https://pytorch.org/docs/stable/nn.html#batchnorm2d))\n",
    "- Изменить количество слоев и их толщину\n",
    "- Изменять количество эпох тренировки\n",
    "- Попробовать и другие агментации"
   ]
  },
  {
   "cell_type": "code",
   "execution_count": 127,
   "metadata": {
    "colab": {},
    "colab_type": "code",
    "id": "tSVhD747icoc"
   },
   "outputs": [],
   "source": [
    "best_model = best_run.model\n",
    "#best_model = lenet_model"
   ]
  },
  {
   "cell_type": "markdown",
   "metadata": {
    "colab_type": "text",
    "id": "ubeKgBcnhx7N"
   },
   "source": [
    "# Финальный аккорд - проверим лучшую модель на test set\n",
    "\n",
    "В качестве разнообразия - напишите код для прогона модели на test set вы.\n",
    "\n",
    "В результате вы должны натренировать модель, которая покажет более **90%** точности на test set.  \n",
    "Как водится, лучший результат в группе получит дополнительные баллы!"
   ]
  },
  {
   "cell_type": "code",
   "execution_count": 128,
   "metadata": {
    "colab": {
     "base_uri": "https://localhost:8080/",
     "height": 51
    },
    "colab_type": "code",
    "id": "EIqM1kdeh-hd",
    "outputId": "440fc3f5-8459-475c-f707-1443105a43c3"
   },
   "outputs": [
    {
     "name": "stdout",
     "output_type": "stream",
     "text": [
      "lenet accuracy 0.8417716656422864\n",
      "Final test accuracy -  0.8688537185003073\n"
     ]
    }
   ],
   "source": [
    "# TODO Write the code to compute accuracy on test set\n",
    "final_test_accuracy = 0.0\n",
    "\n",
    "# Как всегда, в конце проверяем на test set\n",
    "\n",
    "\n",
    "test_loader = torch.utils.data.DataLoader(data_test, batch_size=batch_size)\n",
    "\n",
    "\n",
    "test_loader = torch.utils.data.DataLoader(data_test, batch_size=batch_size)\n",
    "final_test_accuracy = compute_accuracy(best_model, test_loader)\n",
    "\n",
    "print(\"lenet accuracy\", 0.8417716656422864)\n",
    "print(\"Final test accuracy - \", final_test_accuracy)"
   ]
  },
  {
   "cell_type": "code",
   "execution_count": null,
   "metadata": {
    "colab": {},
    "colab_type": "code",
    "id": "BfH6qip6kVX_"
   },
   "outputs": [],
   "source": []
  },
  {
   "cell_type": "code",
   "execution_count": null,
   "metadata": {},
   "outputs": [],
   "source": []
  },
  {
   "cell_type": "code",
   "execution_count": null,
   "metadata": {},
   "outputs": [],
   "source": []
  },
  {
   "cell_type": "code",
   "execution_count": null,
   "metadata": {},
   "outputs": [],
   "source": []
  }
 ],
 "metadata": {
  "accelerator": "GPU",
  "colab": {
   "collapsed_sections": [],
   "name": "PyTorch_CNN.ipynb",
   "provenance": []
  },
  "kernelspec": {
   "display_name": "Python 3",
   "language": "python",
   "name": "python3"
  },
  "language_info": {
   "codemirror_mode": {
    "name": "ipython",
    "version": 3
   },
   "file_extension": ".py",
   "mimetype": "text/x-python",
   "name": "python",
   "nbconvert_exporter": "python",
   "pygments_lexer": "ipython3",
   "version": "3.7.6"
  }
 },
 "nbformat": 4,
 "nbformat_minor": 1
}
