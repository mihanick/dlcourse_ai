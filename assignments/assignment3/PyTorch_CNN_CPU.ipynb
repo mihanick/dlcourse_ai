{
 "cells": [
  {
   "cell_type": "markdown",
   "metadata": {
    "colab_type": "text",
    "id": "77tx2Je8hyqY"
   },
   "source": [
    "# Задание 3.2 - сверточные нейронные сети (CNNs) в PyTorch\n",
    "\n",
    "Это упражнение мы буде выполнять в Google Colab - https://colab.research.google.com/  \n",
    "Google Colab позволяет запускать код в notebook в облаке Google, где можно воспользоваться бесплатным GPU!  \n",
    "\n",
    "Авторы курса благодарят компанию Google и надеятся, что праздник не закончится.\n",
    "\n",
    "Туториал по настройке Google Colab:  \n",
    "https://medium.com/deep-learning-turkey/google-colab-free-gpu-tutorial-e113627b9f5d  \n",
    "(Keras инсталлировать не нужно, наш notebook сам установит PyTorch)\n"
   ]
  },
  {
   "cell_type": "code",
   "execution_count": 93,
   "metadata": {
    "colab": {},
    "colab_type": "code",
    "id": "-afwWw-Q85vD"
   },
   "outputs": [],
   "source": [
    "from collections import namedtuple\n",
    "\n",
    "import matplotlib.pyplot as plt\n",
    "import numpy as np\n",
    "import PIL\n",
    "import torch\n",
    "import torch.nn as nn\n",
    "import torch.optim as optim\n",
    "import torchvision.datasets as dset\n",
    "from torch.utils.data.sampler import SubsetRandomSampler\n",
    "\n",
    "import time\n",
    "\n",
    "from torchvision import transforms"
   ]
  },
  {
   "cell_type": "code",
   "execution_count": 94,
   "metadata": {
    "colab": {
     "base_uri": "https://localhost:8080/",
     "height": 34
    },
    "colab_type": "code",
    "id": "NNU-OD9O9ltP",
    "outputId": "00a0adde-d586-41f1-c05d-20d351deef95"
   },
   "outputs": [
    {
     "data": {
      "text/plain": [
       "False"
      ]
     },
     "execution_count": 94,
     "metadata": {},
     "output_type": "execute_result"
    }
   ],
   "source": [
    "device = torch.device(\"cuda:0\") # Let's make sure GPU is available!\n",
    "torch.cuda.is_available()\n"
   ]
  },
  {
   "cell_type": "markdown",
   "metadata": {
    "colab_type": "text",
    "id": "hdiUFqMdhyql"
   },
   "source": [
    "# Загружаем данные"
   ]
  },
  {
   "cell_type": "code",
   "execution_count": 95,
   "metadata": {
    "colab": {},
    "colab_type": "code",
    "id": "YAvkoRx-9FsP"
   },
   "outputs": [],
   "source": [
    "# First, lets load the dataset\n",
    "data_train = dset.SVHN('./data/', \n",
    "                       transform=transforms.Compose([\n",
    "                           transforms.ToTensor(),\n",
    "                           transforms.Normalize(mean=[0.43,0.44,0.47],\n",
    "                                               std=[0.20,0.20,0.20])                           \n",
    "                       ])\n",
    "                      )\n",
    "data_test = dset.SVHN('./data/', split='test', transform=transforms.Compose([\n",
    "                           transforms.ToTensor(),\n",
    "                           transforms.Normalize(mean=[0.43,0.44,0.47],\n",
    "                                               std=[0.20,0.20,0.20])                           \n",
    "                       ]))"
   ]
  },
  {
   "cell_type": "markdown",
   "metadata": {
    "colab_type": "text",
    "id": "ZdT8PE2phyqp"
   },
   "source": [
    "Разделяем данные на training и validation.\n",
    "\n",
    "На всякий случай для подробностей - https://pytorch.org/tutorials/beginner/data_loading_tutorial.html"
   ]
  },
  {
   "cell_type": "code",
   "execution_count": 96,
   "metadata": {
    "colab": {},
    "colab_type": "code",
    "id": "YRnr8CPg7Hli"
   },
   "outputs": [
    {
     "name": "stdout",
     "output_type": "stream",
     "text": [
      "data_size 73257\n"
     ]
    }
   ],
   "source": [
    "batch_size = 64\n",
    "\n",
    "data_size = data_train.data.shape[0]\n",
    "print(\"data_size\",data_size)\n",
    "\n",
    "#performance debug\n",
    "data_size = int(np.floor(.01*data_size))\n",
    "\n",
    "validation_split = .2\n",
    "split = int(np.floor(validation_split * data_size))\n",
    "indices = list(range(data_size))\n",
    "np.random.shuffle(indices)\n",
    "\n",
    "train_indices, val_indices = indices[split:], indices[:split]\n",
    "\n",
    "train_sampler = SubsetRandomSampler(train_indices)\n",
    "val_sampler = SubsetRandomSampler(val_indices)\n",
    "\n",
    "train_loader = torch.utils.data.DataLoader(data_train, batch_size=batch_size, \n",
    "                                           sampler=train_sampler)\n",
    "val_loader = torch.utils.data.DataLoader(data_train, batch_size=batch_size,\n",
    "                                         sampler=val_sampler)"
   ]
  },
  {
   "cell_type": "code",
   "execution_count": 97,
   "metadata": {
    "colab": {},
    "colab_type": "code",
    "id": "LyYvt-T67PBG"
   },
   "outputs": [],
   "source": [
    "# We'll use a special helper module to shape it into a flat tensor\n",
    "class Flattener(nn.Module):\n",
    "    def forward(self, x):\n",
    "        batch_size, *_ = x.shape\n",
    "        return x.view(batch_size, -1)"
   ]
  },
  {
   "cell_type": "code",
   "execution_count": 98,
   "metadata": {
    "colab": {
     "base_uri": "https://localhost:8080/",
     "height": 102
    },
    "colab_type": "code",
    "id": "2ek3KVQK7hJ6",
    "outputId": "e925dc6c-51eb-429a-95e6-37ee13abaa33"
   },
   "outputs": [],
   "source": [
    "def compute_accuracy(model, val_loader):\n",
    "    \"\"\"\n",
    "    Computes accuracy on provided data using mini-batches\n",
    "    \"\"\"\n",
    "    total_samples = 0\n",
    "    correct_samples = 0\n",
    "\n",
    "    for i_step, (x, y) in enumerate(val_loader):\n",
    "\n",
    "        x_gpu = x#.to(device)\n",
    "        y_gpu = y#.to(device)\n",
    "        predictions = model(x_gpu)    \n",
    "        # print(prediction.shape, y_gpu.shape)\n",
    "        # https://pytorch.org/docs/master/generated/torch.max.html\n",
    "        values, indices = torch.max(predictions, 1)\n",
    "        correct_samples += torch.sum(indices == y_gpu)\n",
    "        total_samples += y.shape[0]\n",
    "\n",
    "\n",
    "    accuracy = int(correct_samples) / total_samples\n",
    "    return accuracy\n",
    "\n",
    "def train_model(model, train_loader, val_loader, loss, optimizer, num_epochs):    \n",
    "    loss_history = []\n",
    "    train_history = []\n",
    "    val_history = []\n",
    "    start = time.time()\n",
    "    \n",
    "    for epoch in range(num_epochs):\n",
    "        model.train() # Enter train mode\n",
    "        \n",
    "        loss_accum = 0\n",
    "        correct_samples = 0\n",
    "        total_samples = 0\n",
    "        for i_step, (x, y) in enumerate(train_loader):\n",
    "          \n",
    "            x_gpu = x#.to(device)\n",
    "            y_gpu = y#.to(device)\n",
    "            prediction = model(x_gpu)    \n",
    "            loss_value = loss(prediction, y_gpu)\n",
    "            optimizer.zero_grad()\n",
    "            loss_value.backward()\n",
    "            optimizer.step()\n",
    "            \n",
    "            _, indices = torch.max(prediction, 1)\n",
    "            correct_samples += torch.sum(indices == y_gpu)\n",
    "            total_samples += y.shape[0]\n",
    "            \n",
    "            loss_accum += loss_value\n",
    "\n",
    "        ave_loss = loss_accum / i_step\n",
    "        train_accuracy = float(correct_samples) / total_samples\n",
    "        val_accuracy = compute_accuracy(model, val_loader)\n",
    "        \n",
    "        loss_history.append(float(ave_loss))\n",
    "        train_history.append(train_accuracy)\n",
    "        val_history.append(val_accuracy)\n",
    "        \n",
    "        print(\"epoch: %f Average loss: %f, Train accuracy: %f, Val accuracy: %f\" % (epoch, ave_loss, train_accuracy, val_accuracy))\n",
    "        \n",
    "    print(\"elapsed\", time.time() - start, \"seconds\")\n",
    "    return loss_history, train_history, val_history\n",
    "        \n"
   ]
  },
  {
   "cell_type": "markdown",
   "metadata": {
    "colab_type": "text",
    "id": "u_O9qiYySvuj"
   },
   "source": [
    "# Подбор гиперпараметров"
   ]
  },
  {
   "cell_type": "code",
   "execution_count": 136,
   "metadata": {
    "colab": {},
    "colab_type": "code",
    "id": "ljp9IPMioVHa"
   },
   "outputs": [],
   "source": []
  },
  {
   "cell_type": "code",
   "execution_count": 185,
   "metadata": {},
   "outputs": [
    {
     "name": "stdout",
     "output_type": "stream",
     "text": [
      "torch.Size([32, 10])\n",
      "0\n"
     ]
    }
   ],
   "source": [
    "'''\n",
    "channels1 = [32]\n",
    "channels2 = [64]\n",
    "channels3 = [128]\n",
    "'''\n",
    "channels1 = [32]\n",
    "channels2 = [64]\n",
    "channels3 = [128]\n",
    "\n",
    "for channel1 in channels1:\n",
    "    for channel2 in channels2:\n",
    "        for channel3 in channels3:\n",
    "\n",
    "            model = nn.Sequential(\n",
    "                        nn.Conv2d(in_channels = 3, out_channels = channel1, kernel_size = 5, padding = 2), #C1\n",
    "                        nn.AvgPool2d(kernel_size = 3),\n",
    "                        #nn.MaxPool2d(kernel_size = 3), #S2\n",
    "                        nn.BatchNorm2d(channel1),\n",
    "                        nn.Conv2d(in_channels = channel1, out_channels = channel2,kernel_size = 5, padding = 2), #C3\n",
    "                        nn.AvgPool2d(kernel_size = 3),\n",
    "                        #nn.MaxPool2d(5),    #S4\n",
    "                        nn.BatchNorm2d(channel2),\n",
    "                        nn.Conv2d(in_channels = channel2, out_channels = channel3,kernel_size = 5, padding = 2), #C5\n",
    "                        nn.BatchNorm2d(channel3),\n",
    "                        nn.AvgPool2d(kernel_size = 3),\n",
    "                        Flattener(),\n",
    "                        nn.Linear(in_features=channel3, out_features=10), #F6\n",
    "                        \n",
    "                        #nn.BatchNorm1d(84),\n",
    "                        #nn.ReLU(inplace=True),\n",
    "                        #nn.Linear(84, 10)\n",
    "                      )\n",
    "\n",
    "\n",
    "\n",
    "            count = 0\n",
    "            for i, (X, y) in enumerate(train_aug_loader):\n",
    "                if i<1:\n",
    "                    print(model(X).shape)\n",
    "                break\n",
    "                #count+=1\n",
    "print(count)"
   ]
  },
  {
   "cell_type": "code",
   "execution_count": 189,
   "metadata": {
    "colab": {
     "base_uri": "https://localhost:8080/",
     "height": 102
    },
    "colab_type": "code",
    "id": "i6mhfdQ9K-N3",
    "outputId": "ab5bbe86-2c23-4b49-81a6-ec33fcbeea84"
   },
   "outputs": [
    {
     "name": "stdout",
     "output_type": "stream",
     "text": [
      "Hyperparams(learning_rate=0.002, anneal_epochs=9, reg=0.001, channel1=32, channel2=64, channel3=128, batch_size=32, hue=0, saturation=0, rotation=2)\n",
      "epoch: 0.000000 Average loss: 2.407945, Train accuracy: 0.186007, Val accuracy: 0.328767\n",
      "epoch: 1.000000 Average loss: 1.886706, Train accuracy: 0.404437, Val accuracy: 0.452055\n",
      "epoch: 2.000000 Average loss: 1.435017, Train accuracy: 0.583618, Val accuracy: 0.568493\n",
      "epoch: 3.000000 Average loss: 1.153849, Train accuracy: 0.653584, Val accuracy: 0.589041\n",
      "epoch: 4.000000 Average loss: 0.929133, Train accuracy: 0.744027, Val accuracy: 0.636986\n",
      "epoch: 5.000000 Average loss: 0.792230, Train accuracy: 0.798635, Val accuracy: 0.643836\n",
      "epoch: 6.000000 Average loss: 0.681853, Train accuracy: 0.817406, Val accuracy: 0.589041\n",
      "epoch: 7.000000 Average loss: 0.678308, Train accuracy: 0.815700, Val accuracy: 0.623288\n",
      "epoch: 8.000000 Average loss: 0.510466, Train accuracy: 0.873720, Val accuracy: 0.643836\n",
      "elapsed 22.725846529006958 seconds\n"
     ]
    }
   ],
   "source": [
    "# The key hyperparameters we're going to tune are learning speed, annealing rate and regularization\n",
    "# We also encourage you to try different optimizers as well\n",
    "\n",
    "Hyperparams = namedtuple(\"Hyperparams\", ['learning_rate', 'anneal_epochs', 'reg', 'channel1', 'channel2', 'channel3', 'batch_size', 'hue', 'saturation', 'rotation'])\n",
    "RunResult = namedtuple(\"RunResult\", ['model', 'train_history', 'val_history', 'final_val_accuracy'])\n",
    "'''\n",
    "learning_rates = [2e-2]\n",
    "anneal_coeff = 0.5\n",
    "anneal_epochs = [9]\n",
    "weight_decays = [ 1e-3]\n",
    "'''\n",
    "\n",
    "learning_rates = [2e-3]\n",
    "anneal_coeff = 0.5\n",
    "anneal_epochs = [9]\n",
    "weight_decays = [ 1e-3]\n",
    "\n",
    "batch_sizes = [32]\n",
    "hues = [0]\n",
    "saturations = [0]\n",
    "rotations = [2]\n",
    "\n",
    "\n",
    "# Record all the runs here\n",
    "# Key should be Hyperparams and values should be RunResult\n",
    "run_record = {} \n",
    "\n",
    "# Use grid search or random search and record all runs in run_record dictionnary \n",
    "# Important: perform search in logarithmic space!\n",
    "\n",
    "for channel1 in channels1:\n",
    "    for channel2 in channels2:\n",
    "        for channel3 in channels3:\n",
    "            for learning_rate in learning_rates:\n",
    "                for weight_decay in weight_decays:\n",
    "                    for num_epoch in anneal_epochs:      \n",
    "                        for batch_size in batch_sizes:\n",
    "                            for hue in hues:\n",
    "                                for saturation in saturations:\n",
    "                                    for rotation in rotations:\n",
    "                        \n",
    "                        \n",
    "                                        hyper = Hyperparams(learning_rate , num_epoch, weight_decay, \n",
    "                                                            channel1, channel2, channel3,\n",
    "                                                           batch_size, hue, saturation, rotation)\n",
    "\n",
    "                                        tfs_aug = transforms.Compose([\n",
    "                                            transforms.ColorJitter(hue=hue, saturation=saturation),\n",
    "                                            transforms.Grayscale(num_output_channels=3),\n",
    "                                            #transforms.RandomHorizontalFlip(),\n",
    "                                            #transforms.RandomVerticalFlip(),\n",
    "                                            transforms.RandomRotation(rotation, resample=PIL.Image.BILINEAR),\n",
    "                                            transforms.ToTensor(),\n",
    "                                            transforms.Normalize(mean=[0.43,0.44,0.47],\n",
    "                                                               std=[0.20,0.20,0.20])                           \n",
    "                                        ])\n",
    "\n",
    "                                        data_aug_train = dset.SVHN('./data/', \n",
    "                                                               transform=tfs_aug\n",
    "                                                              )\n",
    "\n",
    "                                        train_aug_loader = torch.utils.data.DataLoader(data_aug_train, batch_size=batch_size, \n",
    "                                                                                   sampler=train_sampler)\n",
    "                                        \n",
    "                                        model = nn.Sequential(\n",
    "                                                    nn.Conv2d(in_channels = 3, out_channels = channel1, kernel_size = 5, padding = 2), #C1\n",
    "                                                    nn.AvgPool2d(kernel_size = 3),\n",
    "                                                    #nn.MaxPool2d(kernel_size = 3), #S2\n",
    "                                                    nn.BatchNorm2d(channel1),\n",
    "                                                    nn.Conv2d(in_channels = channel1, out_channels = channel2,kernel_size = 5, padding = 2), #C3\n",
    "                                                    nn.MaxPool2d(5),    #S4\n",
    "                                                    nn.BatchNorm2d(channel2),\n",
    "                                                    nn.Conv2d(in_channels = channel2, out_channels = channel3,kernel_size = 5, padding = 2), #C5\n",
    "                                                    nn.BatchNorm2d(channel3),\n",
    "                                                    Flattener(),\n",
    "                                                    nn.Linear(in_features=4*channel3, out_features=10) #F6\n",
    "                                                    #nn.BatchNorm1d(84),\n",
    "                                                    #nn.ReLU(inplace=True),\n",
    "                                                    #nn.Linear(84, 10)\n",
    "                                        )\n",
    "                                        '''\n",
    "                                        model = nn.Sequential(\n",
    "                                            nn.Conv2d(in_channels = 3, out_channels = channel1, kernel_size = 5, padding = 2), #C1\n",
    "                                            nn.AvgPool2d(kernel_size = 3),\n",
    "                                            #nn.MaxPool2d(kernel_size = 3), #S2\n",
    "                                            nn.BatchNorm2d(channel1),\n",
    "                                            nn.Conv2d(in_channels = channel1, out_channels = channel2,kernel_size = 5, padding = 2), #C3\n",
    "                                            nn.AvgPool2d(kernel_size = 3),\n",
    "                                            #nn.MaxPool2d(5),    #S4\n",
    "                                            nn.BatchNorm2d(channel2),\n",
    "                                            nn.Conv2d(in_channels = channel2, out_channels = channel3,kernel_size = 5, padding = 2), #C5\n",
    "                                            nn.BatchNorm2d(channel3),\n",
    "                                            nn.AvgPool2d(kernel_size = 3),\n",
    "                                            Flattener(),\n",
    "                                            nn.Linear(in_features=channel3, out_features=10), #F6\n",
    "\n",
    "                                            #nn.BatchNorm1d(84),\n",
    "                                            #nn.ReLU(inplace=True),\n",
    "                                            #nn.Linear(84, 10)\n",
    "                                          )\n",
    "                                        '''\n",
    "                                        loss = nn.CrossEntropyLoss()\n",
    "\n",
    "                                        optimizer = optim.SGD(model.parameters(), lr=learning_rate, weight_decay=weight_decay, momentum= 0.8)\n",
    "                                        #optimizer = optim.Adam(model.parameters(), lr = learning_rate, weight_decay=anneal_coeff)\n",
    "                                        \n",
    "                                        print(hyper)\n",
    "\n",
    "                                        loss_history, train_history, val_history = train_model(\n",
    "                                            model, train_aug_loader, val_loader, loss, optimizer, num_epochs=num_epoch)\n",
    "\n",
    "                                        run = RunResult(model, train_history, val_history, val_history[-1]) \n",
    "\n",
    "                                        run_record[hyper] = run\n",
    "                                        "
   ]
  },
  {
   "cell_type": "code",
   "execution_count": 187,
   "metadata": {
    "colab": {
     "base_uri": "https://localhost:8080/",
     "height": 85
    },
    "colab_type": "code",
    "id": "Y6xExdw8JB1l",
    "outputId": "ec17ff9a-dbf6-4a4b-e011-c84064461d2a"
   },
   "outputs": [
    {
     "name": "stdout",
     "output_type": "stream",
     "text": [
      "0.19863013698630136\n",
      "Best validation accuracy: 0.20, best hyperparams: Hyperparams(learning_rate=0.02, anneal_epochs=9, reg=0.001, channel1=32, channel2=64, channel3=128, batch_size=32, hue=0, saturation=0, rotation=2)\n"
     ]
    },
    {
     "data": {
      "image/png": "[encoded data removed]",
      "text/plain": [
       "<Figure size 432x288 with 1 Axes>"
      ]
     },
     "metadata": {
      "needs_background": "light"
     },
     "output_type": "display_data"
    }
   ],
   "source": [
    "best_val_accuracy = None\n",
    "best_hyperparams = None\n",
    "best_run = None\n",
    "\n",
    "for hyperparams, run_result in run_record.items():\n",
    "    print(run_result.final_val_accuracy)\n",
    "    if best_val_accuracy is None or best_val_accuracy < run_result.final_val_accuracy:\n",
    "        best_val_accuracy = run_result.final_val_accuracy\n",
    "        best_hyperparams = hyperparams\n",
    "        best_run = run_result\n",
    "        \n",
    "print(\"Best validation accuracy: %4.2f, best hyperparams: %s\" % (best_val_accuracy, best_hyperparams))\n",
    "\n",
    "import matplotlib.pyplot as plt\n",
    "def plot_history(train_history, val_history):\n",
    "    \n",
    "    # print(\"model summary:\")\n",
    "    # model = models.vgg16()\n",
    "    # print(nn_model)\n",
    "    \n",
    "    # plt.plot(loss_history/np.mean(loss_history))\n",
    "    plt.ylabel('Accuracy @ epoch')\n",
    "    \n",
    "    train, = plt.plot(train_history)\n",
    "    train.set_label(\"train\")\n",
    "    validation, = plt.plot(val_history)\n",
    "    validation.set_label(\"validation\")\n",
    "\n",
    "    plt.legend()\n",
    "    plt.show()\n",
    "\n",
    "plot_history(best_run.train_history, best_run.val_history, )"
   ]
  },
  {
   "cell_type": "code",
   "execution_count": 176,
   "metadata": {
    "colab": {},
    "colab_type": "code",
    "id": "tSVhD747icoc"
   },
   "outputs": [],
   "source": [
    "best_model = best_run.model\n",
    "#best_model = lenet_model"
   ]
  },
  {
   "cell_type": "markdown",
   "metadata": {
    "colab_type": "text",
    "id": "ubeKgBcnhx7N"
   },
   "source": [
    "# Финальный аккорд - проверим лучшую модель на test set\n",
    "\n",
    "В качестве разнообразия - напишите код для прогона модели на test set вы.\n",
    "\n",
    "В результате вы должны натренировать модель, которая покажет более **90%** точности на test set.  \n",
    "Как водится, лучший результат в группе получит дополнительные баллы!"
   ]
  },
  {
   "cell_type": "code",
   "execution_count": 177,
   "metadata": {
    "colab": {
     "base_uri": "https://localhost:8080/",
     "height": 51
    },
    "colab_type": "code",
    "id": "EIqM1kdeh-hd",
    "outputId": "440fc3f5-8459-475c-f707-1443105a43c3"
   },
   "outputs": [
    {
     "name": "stdout",
     "output_type": "stream",
     "text": [
      "lenet accuracy 0.8417716656422864\n",
      "Final test accuracy -  0.6242701290719115\n"
     ]
    }
   ],
   "source": [
    "# TODO Write the code to compute accuracy on test set\n",
    "final_test_accuracy = 0.0\n",
    "\n",
    "# Как всегда, в конце проверяем на test set\n",
    "\n",
    "\n",
    "test_loader = torch.utils.data.DataLoader(data_test, batch_size=batch_size)\n",
    "\n",
    "\n",
    "test_loader = torch.utils.data.DataLoader(data_test, batch_size=batch_size)\n",
    "final_test_accuracy = compute_accuracy(best_model, test_loader)\n",
    "\n",
    "print(\"lenet accuracy\", 0.8417716656422864)\n",
    "print(\"Final test accuracy - \", final_test_accuracy)"
   ]
  },
  {
   "cell_type": "code",
   "execution_count": null,
   "metadata": {
    "colab": {},
    "colab_type": "code",
    "id": "BfH6qip6kVX_"
   },
   "outputs": [],
   "source": []
  }
 ],
 "metadata": {
  "accelerator": "GPU",
  "colab": {
   "collapsed_sections": [],
   "name": "PyTorch_CNN.ipynb",
   "provenance": []
  },
  "kernelspec": {
   "display_name": "Python 3",
   "language": "python",
   "name": "python3"
  },
  "language_info": {
   "codemirror_mode": {
    "name": "ipython",
    "version": 3
   },
   "file_extension": ".py",
   "mimetype": "text/x-python",
   "name": "python",
   "nbconvert_exporter": "python",
   "pygments_lexer": "ipython3",
   "version": "3.7.6"
  }
 },
 "nbformat": 4,
 "nbformat_minor": 4
}
